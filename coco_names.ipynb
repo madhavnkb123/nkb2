{
  "nbformat": 4,
  "nbformat_minor": 0,
  "metadata": {
    "colab": {
      "provenance": [],
      "authorship_tag": "ABX9TyM1Ioyn91NHftcFvflKTPb7",
      "include_colab_link": true
    },
    "kernelspec": {
      "name": "python3",
      "display_name": "Python 3"
    },
    "language_info": {
      "name": "python"
    }
  },
  "cells": [
    {
      "cell_type": "markdown",
      "metadata": {
        "id": "view-in-github",
        "colab_type": "text"
      },
      "source": [
        "<a href=\"https://colab.research.google.com/github/madhavnkb123/nkb2/blob/main/coco_names.ipynb\" target=\"_parent\"><img src=\"https://colab.research.google.com/assets/colab-badge.svg\" alt=\"Open In Colab\"/></a>"
      ]
    },
    {
      "cell_type": "code",
      "execution_count": null,
      "metadata": {
        "colab": {
          "base_uri": "https://localhost:8080/",
          "height": 235
        },
        "id": "fcrO0fk0SCHK",
        "outputId": "0daa9e61-2460-4bcc-dcf5-3fd740b1cb18"
      },
      "outputs": [
        {
          "output_type": "error",
          "ename": "FileNotFoundError",
          "evalue": "ignored",
          "traceback": [
            "\u001b[0;31m---------------------------------------------------------------------------\u001b[0m",
            "\u001b[0;31mFileNotFoundError\u001b[0m                         Traceback (most recent call last)",
            "\u001b[0;32m<ipython-input-3-7341adea7398>\u001b[0m in \u001b[0;36m<module>\u001b[0;34m\u001b[0m\n\u001b[1;32m      9\u001b[0m \u001b[0mclassesFile\u001b[0m \u001b[0;34m=\u001b[0m \u001b[0;34m'coco.names'\u001b[0m\u001b[0;34m\u001b[0m\u001b[0;34m\u001b[0m\u001b[0m\n\u001b[1;32m     10\u001b[0m \u001b[0mclassNames\u001b[0m \u001b[0;34m=\u001b[0m \u001b[0;34m[\u001b[0m\u001b[0;34m]\u001b[0m\u001b[0;34m\u001b[0m\u001b[0;34m\u001b[0m\u001b[0m\n\u001b[0;32m---> 11\u001b[0;31m \u001b[0;32mwith\u001b[0m \u001b[0mopen\u001b[0m\u001b[0;34m(\u001b[0m\u001b[0mclassesFile\u001b[0m\u001b[0;34m,\u001b[0m\u001b[0;34m'rt'\u001b[0m\u001b[0;34m)\u001b[0m \u001b[0;32mas\u001b[0m \u001b[0mf\u001b[0m\u001b[0;34m:\u001b[0m\u001b[0;34m\u001b[0m\u001b[0;34m\u001b[0m\u001b[0m\n\u001b[0m\u001b[1;32m     12\u001b[0m     \u001b[0mclassNames\u001b[0m \u001b[0;34m=\u001b[0m \u001b[0mf\u001b[0m\u001b[0;34m.\u001b[0m\u001b[0mread\u001b[0m\u001b[0;34m(\u001b[0m\u001b[0;34m)\u001b[0m\u001b[0;34m.\u001b[0m\u001b[0mrstrip\u001b[0m\u001b[0;34m(\u001b[0m\u001b[0;34m'\\n'\u001b[0m\u001b[0;34m)\u001b[0m\u001b[0;34m.\u001b[0m\u001b[0msplit\u001b[0m\u001b[0;34m(\u001b[0m\u001b[0;34m'\\n'\u001b[0m\u001b[0;34m)\u001b[0m\u001b[0;34m\u001b[0m\u001b[0;34m\u001b[0m\u001b[0m\n\u001b[1;32m     13\u001b[0m \u001b[0;31m#print(classNames)\u001b[0m\u001b[0;34m\u001b[0m\u001b[0;34m\u001b[0m\u001b[0;34m\u001b[0m\u001b[0m\n",
            "\u001b[0;31mFileNotFoundError\u001b[0m: [Errno 2] No such file or directory: 'coco.names'"
          ]
        }
      ],
      "source": [
        "import cv2\n",
        "import numpy as np\n",
        "\n",
        "cap = cv2.VideoCapture(0)\n",
        "whT = 320\n",
        "confThreshold = 0.5\n",
        "nmsThreshold = 0.3\n",
        "\n",
        "classesFile = 'coco.names'\n",
        "classNames = []\n",
        "with open(classesFile,'rt') as f:\n",
        "    classNames = f.read().rstrip('\\n').split('\\n')\n",
        "#print(classNames)\n",
        "#print(len(classNames))\n",
        "\n",
        "modelConfiguration = 'yolov3.cfg'\n",
        "modelWeights = 'yolov3.weights'\n",
        "\n",
        "\n",
        "net = cv2.dnn.readNetFromDarknet(modelConfiguration, modelWeights)\n",
        "net.setPreferableBackend(cv2.dnn.DNN_BACKEND_DEFAULT)\n",
        "net.setPreferableTarget(cv2.dnn.DNN_TARGET_CPU)\n",
        "\n",
        "def findObjects(outputs,img):\n",
        "    hT, wT, cT = img.shape\n",
        "    bbox = []\n",
        "    classIds = []\n",
        "    confs = []\n",
        "\n",
        "    for output in outputs:\n",
        "        for det in output:\n",
        "            scores = det[5:]\n",
        "            classId = np.argmax(scores)\n",
        "            confidence = scores[classId]\n",
        "            if confidence > confThreshold:\n",
        "                w,h = int(det[2]* wT), int(det[3]*hT)\n",
        "                x,y = int((det[0]*wT)-w/2), int((det[1]*hT)-h/2)\n",
        "                bbox.append([x,y,w,h])\n",
        "                classIds.append(classId)\n",
        "                confs.append(float(confidence))\n",
        "\n",
        "\n",
        "    #print(len(bbox))\n",
        "    indices = cv2.dnn.NMSBoxes(bbox, confs,confThreshold,nmsThreshold)\n",
        "\n",
        "    for i in indices:\n",
        "        i = i[0]\n",
        "        box = bbox[i]\n",
        "        x,y,w,h = box[0], box[1], box[2], box[3]\n",
        "        cv2.rectangle(img, (x,y),(x+w,y+h),(255,0,255),2)\n",
        "        cv2.putText(img,f'{classNames[classIds[i]].upper()} {int(confs[i]*100)}%',\n",
        "                    (x,y-10), cv2.FONT_HERSHEY_SIMPLEX, 0.6,(255,0,255),2)\n",
        "\n",
        "while True:\n",
        "    success, img = cap.read()\n",
        "\n",
        "    blob = cv2.dnn.blobFromImage(img, 1/255,(whT,whT),[0,0,0],crop=False)\n",
        "    net.setInput(blob)\n",
        "\n",
        "    layerNames = net.getLayerNames()\n",
        "    #print(layerNames)\n",
        "    outputNames = [layerNames[i[0]-1] for i in net.getUnconnectedOutLayers()]\n",
        "    #print(outputNames)\n",
        "    #print(net.getUnconnectedOutLayers())\n",
        "\n",
        "    outputs = net.forward(outputNames)\n",
        "    #print(len(outputs))\n",
        "    #print(type(outputs[0]))\n",
        "    #print(outputs[0].shape) (300, 85)\n",
        "    #print(outputs[1].shape) (1200, 85)\n",
        "    #print(outputs[2].shape) (4800, 85)\n",
        "    #print(outputs[0][0])\n",
        "\n",
        "    findObjects(outputs,img)\n",
        "\n",
        "    cv2.imshow('Image', img)\n",
        "    cv2.waitKey(1)"
      ]
    }
  ]
}